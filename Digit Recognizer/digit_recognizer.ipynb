{
 "cells": [
  {
   "cell_type": "markdown",
   "metadata": {},
   "source": [
    "# **Imports**\n",
    "First of all, we import all the libraries and functions that we will use throughout the notebook."
   ]
  },
  {
   "cell_type": "code",
   "execution_count": 1,
   "metadata": {},
   "outputs": [
    {
     "ename": "ModuleNotFoundError",
     "evalue": "No module named 'pandas'",
     "output_type": "error",
     "traceback": [
      "\u001b[1;31m---------------------------------------------------------------------------\u001b[0m",
      "\u001b[1;31mModuleNotFoundError\u001b[0m                       Traceback (most recent call last)",
      "\u001b[1;32m<ipython-input-1-e61c75067f5c>\u001b[0m in \u001b[0;36m<module>\u001b[1;34m\u001b[0m\n\u001b[0;32m      2\u001b[0m \u001b[1;32mimport\u001b[0m \u001b[0mrandom\u001b[0m\u001b[1;33m\u001b[0m\u001b[1;33m\u001b[0m\u001b[0m\n\u001b[0;32m      3\u001b[0m \u001b[1;32mimport\u001b[0m \u001b[0mnumpy\u001b[0m \u001b[1;32mas\u001b[0m \u001b[0mnp\u001b[0m\u001b[1;33m\u001b[0m\u001b[1;33m\u001b[0m\u001b[0m\n\u001b[1;32m----> 4\u001b[1;33m \u001b[1;32mimport\u001b[0m \u001b[0mpandas\u001b[0m \u001b[1;32mas\u001b[0m \u001b[0mpd\u001b[0m\u001b[1;33m\u001b[0m\u001b[1;33m\u001b[0m\u001b[0m\n\u001b[0m\u001b[0;32m      5\u001b[0m \u001b[1;32mimport\u001b[0m \u001b[0mmatplotlib\u001b[0m\u001b[1;33m.\u001b[0m\u001b[0mpyplot\u001b[0m \u001b[1;32mas\u001b[0m \u001b[0mplt\u001b[0m\u001b[1;33m\u001b[0m\u001b[1;33m\u001b[0m\u001b[0m\n\u001b[0;32m      6\u001b[0m \u001b[1;33m\u001b[0m\u001b[0m\n",
      "\u001b[1;31mModuleNotFoundError\u001b[0m: No module named 'pandas'"
     ]
    }
   ],
   "source": [
    "import os\n",
    "import random\n",
    "import numpy as np\n",
    "import pandas as pd\n",
    "import matplotlib.pyplot as plt\n",
    "\n",
    "from tensorflow.keras.utils import to_categorical"
   ]
  },
  {
   "cell_type": "markdown",
   "metadata": {},
   "source": [
    "# **Data loading**"
   ]
  },
  {
   "cell_type": "code",
   "execution_count": null,
   "metadata": {},
   "outputs": [],
   "source": [
    "test = np.genfromtxt('data/train.csv', delimiter = ',', skip_header = 1)\n",
    "print(\"Total samples:\", test.shape)\n",
    "X = test[:, 1:]\n",
    "Y = test[:, 0]\n",
    "n = X.shape[0]\n",
    "m = X.shape[1]\n",
    "\n",
    "print (n)\n",
    "print (m)"
   ]
  },
  {
   "cell_type": "markdown",
   "metadata": {},
   "source": [
    "# **Data display**\n",
    "\n",
    "Let's see some randomly selected images from the dataset."
   ]
  },
  {
   "cell_type": "code",
   "execution_count": null,
   "metadata": {},
   "outputs": [],
   "source": [
    "index = np.random.randint(0, n, 50)\n",
    "plt.figure(figsize = (20, 10))\n",
    "for i, idx in enumerate(index):\n",
    "    plt.subplot(5, 10, i+1)\n",
    "    plt.imshow(np.reshape(X[idx,:], ((28, 28))))\n",
    "plt.show()"
   ]
  },
  {
   "cell_type": "markdown",
   "metadata": {},
   "source": [
    "We show the number of examples of each label. As you can see the training data is balanced."
   ]
  },
  {
   "cell_type": "code",
   "execution_count": null,
   "metadata": {},
   "outputs": [],
   "source": [
    "x_labels = sorted(list(set(Y)))\n",
    "y_labels = [Y.tolist().count(i) for i in x_labels]\n",
    "\n",
    "plt.figure(figsize = (15,5))\n",
    "plt.ylabel('Number of labels')\n",
    "plt.xlabel('Labels')\n",
    "plt.xticks([i for i in range(len(x_labels))]) \n",
    "plt.bar(x_labels, y_labels)\n",
    "plt.show()"
   ]
  },
  {
   "cell_type": "markdown",
   "metadata": {},
   "source": [
    "# **Data preprocessing**\n",
    "\n",
    "In order to train the model it is necessary to normalize the test data."
   ]
  },
  {
   "cell_type": "code",
   "execution_count": null,
   "metadata": {},
   "outputs": [],
   "source": [
    "X = X / 255"
   ]
  },
  {
   "cell_type": "markdown",
   "metadata": {},
   "source": [
    "# **Division of data into train and test**\n",
    "\n",
    "Since we are facing a classification problem with multiple classes, we will transform the output $Y$ class following a one-hot encoding."
   ]
  },
  {
   "cell_type": "code",
   "execution_count": null,
   "metadata": {},
   "outputs": [],
   "source": [
    "Y = to_categorical(Y)"
   ]
  },
  {
   "cell_type": "markdown",
   "metadata": {},
   "source": [
    "Let's show some random example to check that everything is correct."
   ]
  },
  {
   "cell_type": "code",
   "execution_count": null,
   "metadata": {},
   "outputs": [],
   "source": [
    "sample = np.random.choice(X.shape[0])\n",
    "plt.imshow(np.reshape(X[sample, :], ((28, 28))))\n",
    "print(\"Output associated to the label: \", Y[sample])"
   ]
  },
  {
   "cell_type": "markdown",
   "metadata": {},
   "source": [
    "We will use $80\\%$ of the data for training and the remaining $20\\%$ for testing. To choose them randomly we will use a random shuffle."
   ]
  },
  {
   "cell_type": "code",
   "execution_count": null,
   "metadata": {},
   "outputs": [],
   "source": [
    "random.seed(1)\n",
    "indexs = np.arange(n)\n",
    "random.shuffle (indexs)\n",
    "position = int(n * 0.8)\n",
    "\n",
    "X_train = X[indexs[:position]]\n",
    "Y_train = Y[indexs[:position]]\n",
    "\n",
    "X_test  = X[indexs[position:]]\n",
    "Y_test  = Y[indexs[position:]]\n",
    "\n",
    "print(\"Number of examples for training: \", X_train.shape[0])\n",
    "print(\"Number of examples for testing: \", X_test.shape[0])"
   ]
  },
  {
   "cell_type": "markdown",
   "metadata": {},
   "source": [
    "# **Model training**"
   ]
  },
  {
   "cell_type": "code",
   "execution_count": null,
   "metadata": {},
   "outputs": [],
   "source": [
    "inputs = Input(shape = (28, 28, 1))\n",
    "conv1 = Conv2D(32, kernel_size  = (3, 3), activation = 'relu')(inputs)\n",
    "conv2 = Conv2D(64, kernel_size  = (3, 3), activation = 'relu')(conv1)\n",
    "pool1 = MaxPooling2D(pool_size  = (2, 2))(conv2)\n",
    "conv3 = Conv2D(128, kernel_size = (3, 3), activation = 'relu')(pool1)\n",
    "pool2 = MaxPooling2D(pool_size  = (2, 2))(conv3)\n",
    "x = Dropout(0.25)(pool2)\n",
    "flat = Flatten()(x)"
   ]
  }
 ],
 "metadata": {
  "interpreter": {
   "hash": "4b3e859b6b0862ae3121ba6f598b30e1f6b5ed0384b00ae29039d837e1a3dab9"
  },
  "kernelspec": {
   "display_name": "Python 3.9.2 64-bit",
   "language": "python",
   "name": "python3"
  },
  "language_info": {
   "codemirror_mode": {
    "name": "ipython",
    "version": 3
   },
   "file_extension": ".py",
   "mimetype": "text/x-python",
   "name": "python",
   "nbconvert_exporter": "python",
   "pygments_lexer": "ipython3",
   "version": "3.9.2"
  },
  "orig_nbformat": 4
 },
 "nbformat": 4,
 "nbformat_minor": 2
}
